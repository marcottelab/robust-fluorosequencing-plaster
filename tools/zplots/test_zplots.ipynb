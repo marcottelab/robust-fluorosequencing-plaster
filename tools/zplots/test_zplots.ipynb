{
 "cells": [
  {
   "cell_type": "code",
   "execution_count": null,
   "metadata": {},
   "outputs": [],
   "source": [
    "from plaster.tools.ipynb_helpers import displays\n",
    "displays.restart_kernel()"
   ]
  },
  {
   "cell_type": "code",
   "execution_count": null,
   "metadata": {},
   "outputs": [],
   "source": [
    "import numpy as np\n",
    "import pandas as pd\n",
    "from plaster.tools.zplots import zplots\n",
    "z = zplots.setup()"
   ]
  },
  {
   "cell_type": "code",
   "execution_count": null,
   "metadata": {},
   "outputs": [],
   "source": [
    "\n",
    "# You can nest \"with\" contexts containing _merge as well as f_* params \n",
    "# This is handy when composing functions that can be used individually\n",
    "# or may be called as part of some higher-level plotter.\n",
    "# Only f_* params from highest With(...) will be used.\n",
    "# TODO: reverse merge f_params up stack so that non-overridden f_params \n",
    "# are kept?\n",
    "\n",
    "def some_plot():\n",
    "    with z(_merge=True, _dots=True, f_title=\"some_plot()\",f_x_axis_label=\"some_plot X\"):\n",
    "        z.line(y=np.random.uniform(size=10))\n",
    "        z.line(y=np.random.uniform(size=10), _step=True, color=\"red\")\n",
    "\n",
    "def high_level_composition_of_plots():\n",
    "    # call some_plot but do our own high-level merge and provide our own\n",
    "    # high-level title and axis label.  Note the f_x_axis label from some_plot() is lost.\n",
    "    with z(_merge=True, f_title=\"High Level Title\", f_y_axis_label=\"high_level Y\"):\n",
    "        some_plot() # note f_x_axis_label doesn't show.\n",
    "        z.line(y=np.random.uniform(size=10),color='green')\n",
    "        \n",
    "some_plot()\n",
    "high_level_composition_of_plots()    \n",
    "\n"
   ]
  },
  {
   "cell_type": "code",
   "execution_count": null,
   "metadata": {},
   "outputs": [],
   "source": [
    "# Lines have an implicit x if not provided\n",
    "with z(_legend=\"top_left\", _cols=2):\n",
    "    with z(_dots=True, _legend=\"top_left\", _merge=True):\n",
    "        z.line(y=np.random.uniform(size=10), _label=\"a test label\")\n",
    "        z.line(y=np.random.uniform(size=10), _label=\"a different thing\", _step=True, color=\"red\")\n",
    "        df = pd.DataFrame(dict(pep_i=np.arange(10), count=np.random.uniform(size=10), label=[\"the label\"] * 10))\n",
    "        z.line(source=df, y=\"count\", _label=\"label\")\n",
    "    with z(_legend=\"bottom_left\"):\n",
    "        z.line(y=np.random.uniform(size=10), _label=\"another test label\")"
   ]
  },
  {
   "cell_type": "code",
   "execution_count": null,
   "metadata": {},
   "outputs": [],
   "source": [
    "# Signed im\n",
    "im0 = np.random.uniform(size=(500, 500))\n",
    "im1 = - np.random.uniform(size=(500, 500))\n",
    "z.im(im0 + im1)"
   ]
  },
  {
   "cell_type": "code",
   "execution_count": null,
   "metadata": {},
   "outputs": [],
   "source": [
    "# columns\n",
    "with z(_cols=2, _noaxes=True, _notools=True):\n",
    "    z.cols(np.random.uniform(size=10), _label=\"blue stuff\")\n",
    "    \n",
    "    # Using a dataframe\n",
    "    df = pd.DataFrame(dict(pep_i=np.arange(10), count=np.random.uniform(size=10), desc=[\"red\"]*10))\n",
    "    z.cols(x=\"pep_i\", top=\"count\", source=df, color=\"red\", _label=\"desc\", fill_alpha=0.5)"
   ]
  },
  {
   "cell_type": "code",
   "execution_count": null,
   "metadata": {},
   "outputs": [],
   "source": [
    "# Histogram\n",
    "with z(_bins=100, _merge=True, _notools=True):\n",
    "    z.hist(np.random.uniform(size=1000), _label=\"blue stuff\")\n",
    "    \n",
    "    # Using a dataframe\n",
    "    df = pd.DataFrame(dict(pep_i=np.arange(1000), count=np.random.uniform(size=1000)))\n",
    "    z.hist(\"count\", source=df, _step=True, color=\"red\", _label=\"red stuff\")"
   ]
  },
  {
   "cell_type": "code",
   "execution_count": null,
   "metadata": {},
   "outputs": [],
   "source": [
    "im0 = 255 * np.random.uniform(size=(500, 500))\n",
    "im1 = 255 * np.random.uniform(size=(500, 500))\n",
    "im1[0:250, 0:250] = 0\n",
    "z.im_color(gray=im0, blue=im1, red=im1)"
   ]
  },
  {
   "cell_type": "code",
   "execution_count": null,
   "metadata": {},
   "outputs": [],
   "source": [
    "# color palette image\n",
    "im = np.random.uniform(size=(808, 500))\n",
    "im[0:100] = 0\n",
    "z.im(im, _cspan=(0.5, 1.0), _full=False, _palette=\"inferno\", _flip_y=False)"
   ]
  },
  {
   "cell_type": "code",
   "execution_count": null,
   "metadata": {},
   "outputs": [],
   "source": [
    "with z(_cols=2):\n",
    "    # Make a line plot with implicit data source\n",
    "    z.line(x=np.arange(10), y=np.random.uniform(size=10))\n",
    "\n",
    "    # Add a label and dots. (labels are used for hover)\n",
    "    z.line(x=np.arange(10), y=np.random.uniform(size=10), _label=\"blue things\", _dots=2)"
   ]
  },
  {
   "cell_type": "code",
   "execution_count": null,
   "metadata": {},
   "outputs": [],
   "source": [
    "# Using Pandas as a source\n",
    "df = pd.DataFrame(dict(pep_i=np.arange(10), count=np.random.uniform(size=10), label=[\"the label\"] * 10))\n",
    "z.line(source=df, x=\"pep_i\", y=\"count\", _label=\"label\")"
   ]
  },
  {
   "cell_type": "code",
   "execution_count": null,
   "metadata": {},
   "outputs": [],
   "source": [
    "# Scatter, note use of color palettes\n",
    "with z(_cols=2, f_x_axis_label=\"foo\"):\n",
    "    with z(_merge=True, line_color=None, f_title=\"test\", _range_x=(0, 2)):\n",
    "        z.scat(x=np.random.uniform(size=100), y=np.random.uniform(size=100), fill_color=z.next())\n",
    "        z.scat(x=np.random.uniform(size=100), y=np.random.uniform(size=100), fill_color=z.next())\n",
    "\n",
    "    # Scatter with a data frame\n",
    "    df = pd.DataFrame(dict(pep_i=np.arange(100), count=np.random.uniform(size=100), lab=\"red stuff\"))\n",
    "    z.scat(source=df, x=\"pep_i\", y=\"count\", fill_color=z.next(), _label=\"lab\", _range=(0, 200, 0, 2))"
   ]
  },
  {
   "cell_type": "code",
   "execution_count": null,
   "metadata": {},
   "outputs": [],
   "source": [
    "im = np.random.uniform(size=(500, 500))\n",
    "with z():\n",
    "    z.im(im, _size=200)\n",
    "    z.im(im) # This image should be at the default size"
   ]
  }
 ],
 "metadata": {
  "kernelspec": {
   "display_name": "Python 3",
   "language": "python",
   "name": "python3"
  },
  "language_info": {
   "codemirror_mode": {
    "name": "ipython",
    "version": 3
   },
   "file_extension": ".py",
   "mimetype": "text/x-python",
   "name": "python",
   "nbconvert_exporter": "python",
   "pygments_lexer": "ipython3",
   "version": "3.8.5-final"
  }
 },
 "nbformat": 4,
 "nbformat_minor": 2
}
